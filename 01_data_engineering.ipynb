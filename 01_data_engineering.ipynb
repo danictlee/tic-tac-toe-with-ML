{
 "cells": [
  {
   "cell_type": "markdown",
   "id": "8afb180f",
   "metadata": {},
   "source": [
    "# Data Engineering Pipeline\n",
    "\n",
    "This notebook implements a complete data engineering pipeline for analysis and processing of the provided dataset.\n",
    "\n",
    "## Pipeline Structure:\n",
    "1. **Setup and Dependencies Installation**\n",
    "2. **Data Loading and Initial Analysis**  \n",
    "3. **Exploratory Analysis - Class Balance**\n",
    "4. **Data Preprocessing**\n",
    "5. **Model Preparation**"
   ]
  },
  {
   "cell_type": "markdown",
   "id": "1efee6b0",
   "metadata": {},
   "source": [
    "## 1. Setup and Dependencies Installation\n",
    "\n",
    "Install and import all necessary libraries for the data engineering pipeline:"
   ]
  },
  {
   "cell_type": "code",
   "execution_count": 1,
   "id": "106f504c",
   "metadata": {},
   "outputs": [
    {
     "name": "stdout",
     "output_type": "stream",
     "text": [
      "Note: you may need to restart the kernel to use updated packages.\n"
     ]
    }
   ],
   "source": [
    "%pip install seaborn --quiet\n",
    "\n",
    "import pandas as pd\n",
    "import numpy as np\n",
    "import matplotlib.pyplot as plt\n",
    "import seaborn as sns\n",
    "from sklearn.model_selection import train_test_split\n",
    "from sklearn.preprocessing import OneHotEncoder, LabelEncoder\n",
    "import joblib"
   ]
  },
  {
   "cell_type": "markdown",
   "id": "89d8f685",
   "metadata": {},
   "source": [
    "## 2. Data Loading and Initial Analysis\n",
    "\n",
    "Load the dataset and perform an initial analysis of its characteristics:"
   ]
  },
  {
   "cell_type": "code",
   "execution_count": 2,
   "id": "f067d141",
   "metadata": {},
   "outputs": [
    {
     "name": "stdout",
     "output_type": "stream",
     "text": [
      "--- Step 1: Loading and Analyzing the Provided Dataset ---\n",
      "Dataset 'dataset-IA.csv' loaded successfully.\n",
      "\n",
      "Dataset Information:\n",
      "<class 'pandas.core.frame.DataFrame'>\n",
      "RangeIndex: 750 entries, 0 to 749\n",
      "Data columns (total 10 columns):\n",
      " #   Column  Non-Null Count  Dtype \n",
      "---  ------  --------------  ----- \n",
      " 0   A1      750 non-null    int64 \n",
      " 1   B1      750 non-null    int64 \n",
      " 2   C1      750 non-null    int64 \n",
      " 3   A2      750 non-null    int64 \n",
      " 4   B2      750 non-null    int64 \n",
      " 5   C2      750 non-null    int64 \n",
      " 6   A3      750 non-null    int64 \n",
      " 7   B3      750 non-null    int64 \n",
      " 8   C3      750 non-null    int64 \n",
      " 9   Class   750 non-null    object\n",
      "dtypes: int64(9), object(1)\n",
      "memory usage: 58.7+ KB\n"
     ]
    }
   ],
   "source": [
    "print(\"--- Step 1: Loading and Analyzing the Provided Dataset ---\")\n",
    "try:\n",
    "\timport pandas as pd  # Ensure pandas is imported\n",
    "\tdf = pd.read_csv('dataset-IA.csv', sep=';')\n",
    "\tprint(\"Dataset 'dataset-IA.csv' loaded successfully.\")\n",
    "except FileNotFoundError:\n",
    "\tprint(\"Error: The file 'dataset-IA.csv' was not found.\")\n",
    "\texit()\n",
    "\n",
    "df.columns = ['A1', 'B1', 'C1', 'A2', 'B2', 'C2', 'A3', 'B3', 'C3', 'Class']\n",
    "print(\"\\nDataset Information:\")\n",
    "df.info()"
   ]
  },
  {
   "cell_type": "markdown",
   "id": "7ccc321b",
   "metadata": {},
   "source": [
    "## 3. Exploratory Analysis - Class Balance\n",
    "\n",
    "Check the class distribution in the dataset to identify possible imbalances:"
   ]
  },
  {
   "cell_type": "code",
   "execution_count": 3,
   "id": "fa0ed045",
   "metadata": {},
   "outputs": [
    {
     "name": "stdout",
     "output_type": "stream",
     "text": [
      "\n",
      "--- Step 2: Checking Class Balance ---\n",
      "Class\n",
      "Fim de Jogo             250\n",
      "Possibilidade de Fim    250\n",
      "Tem Jogo                250\n",
      "Name: count, dtype: int64\n"
     ]
    },
    {
     "data": {
      "image/png": "[encoded data removed]",
      "text/plain": [
       "<Figure size 800x600 with 1 Axes>"
      ]
     },
     "metadata": {},
     "output_type": "display_data"
    }
   ],
   "source": [
    "print(\"\\n--- Step 2: Checking Class Balance ---\")\n",
    "class_counts = df['Class'].value_counts()\n",
    "print(class_counts)\n",
    "\n",
    "# Make sure necessary libraries are imported\n",
    "import matplotlib.pyplot as plt\n",
    "import seaborn as sns\n",
    "\n",
    "plt.figure(figsize=(8, 6))\n",
    "sns.countplot(x='Class', data=df, order=class_counts.index)\n",
    "plt.title('Sample Distribution by Class in Provided Dataset')\n",
    "plt.ylabel('Number of Instances')\n",
    "plt.xlabel('Class')\n",
    "plt.savefig('class_distribution_loaded.png')\n",
    "plt.show()"
   ]
  },
  {
   "cell_type": "markdown",
   "id": "70457de6",
   "metadata": {},
   "source": [
    "## 4. Data Preprocessing and Splitting\n",
    "\n",
    "Perform categorical feature encoding and split data into training, validation and test sets:"
   ]
  },
  {
   "cell_type": "code",
   "execution_count": 4,
   "id": "5f9a7df9",
   "metadata": {},
   "outputs": [
    {
     "name": "stdout",
     "output_type": "stream",
     "text": [
      "\n",
      "--- Step 3: Feature Engineering and Data Splitting ---\n",
      "\n",
      "Training, validation and test datasets were saved successfully!\n"
     ]
    }
   ],
   "source": [
    "print(\"\\n--- Step 3: Feature Engineering and Data Splitting ---\")\n",
    "X = df.drop('Class', axis=1)\n",
    "y = df['Class']\n",
    "\n",
    "from sklearn.preprocessing import OneHotEncoder, LabelEncoder\n",
    "from sklearn.model_selection import train_test_split\n",
    "import joblib\n",
    "\n",
    "onehot_encoder = OneHotEncoder(sparse_output=False, handle_unknown='ignore')\n",
    "X_onehot = onehot_encoder.fit_transform(X)\n",
    "\n",
    "label_encoder = LabelEncoder()\n",
    "y_encoded = label_encoder.fit_transform(y)\n",
    "\n",
    "df_processed = pd.DataFrame(X_onehot, columns=onehot_encoder.get_feature_names_out(X.columns))\n",
    "df_processed['target'] = y_encoded\n",
    "\n",
    "train_df, temp_df = train_test_split(df_processed, test_size=0.2, random_state=42, stratify=df_processed['target'])\n",
    "val_df, test_df = train_test_split(temp_df, test_size=0.5, random_state=42, stratify=temp_df['target'])\n",
    "\n",
    "train_df.to_csv('train_dataset.csv', index=False)\n",
    "val_df.to_csv('validation_dataset.csv', index=False)\n",
    "test_df.to_csv('test_dataset.csv', index=False)\n",
    "joblib.dump(onehot_encoder, 'onehot_encoder.joblib')\n",
    "joblib.dump(label_encoder, 'label_encoder.joblib')\n",
    "\n",
    "print(\"\\nTraining, validation and test datasets were saved successfully!\")"
   ]
  }
 ],
 "metadata": {
  "kernelspec": {
   "display_name": "Python 3",
   "language": "python",
   "name": "python3"
  },
  "language_info": {
   "codemirror_mode": {
    "name": "ipython",
    "version": 3
   },
   "file_extension": ".py",
   "mimetype": "text/x-python",
   "name": "python",
   "nbconvert_exporter": "python",
   "pygments_lexer": "ipython3",
   "version": "3.12.0"
  }
 },
 "nbformat": 4,
 "nbformat_minor": 5
}
