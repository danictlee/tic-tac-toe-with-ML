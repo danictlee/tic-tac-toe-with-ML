{
 "cells": [
  {
   "cell_type": "markdown",
   "id": "8afb180f",
   "metadata": {},
   "source": [
    "# Data Engineering Pipeline\n",
    "\n",
    "Este notebook implementa um pipeline completo de engenharia de dados para análise e processamento do dataset fornecido.\n",
    "\n",
    "## Estrutura do Pipeline:\n",
    "1. **Setup e Instalação de Dependências**\n",
    "2. **Carregamento e Análise Inicial dos Dados**  \n",
    "3. **Análise Exploratória - Balanceamento de Classes**\n",
    "4. **Pré-processamento dos Dados**\n",
    "5. **Preparação para Modelagem**"
   ]
  },
  {
   "cell_type": "markdown",
   "id": "1efee6b0",
   "metadata": {},
   "source": [
    "## 1. Setup e Instalação de Dependências\n",
    "\n",
    "Instalamos e importamos todas as bibliotecas necessárias para o pipeline de engenharia de dados:"
   ]
  },
  {
   "cell_type": "code",
   "execution_count": 12,
   "id": "106f504c",
   "metadata": {},
   "outputs": [
    {
     "name": "stdout",
     "output_type": "stream",
     "text": [
      "Note: you may need to restart the kernel to use updated packages.\n"
     ]
    }
   ],
   "source": [
    "%pip install seaborn --quiet\n",
    "\n",
    "import pandas as pd\n",
    "import numpy as np\n",
    "import matplotlib.pyplot as plt\n",
    "import seaborn as sns\n",
    "from sklearn.model_selection import train_test_split\n",
    "from sklearn.preprocessing import OneHotEncoder, LabelEncoder\n",
    "import joblib"
   ]
  },
  {
   "cell_type": "markdown",
   "id": "89d8f685",
   "metadata": {},
   "source": [
    "## 2. Carregamento e Análise Inicial dos Dados\n",
    "\n",
    "Carregamos o dataset e fazemos uma primeira análise das suas características:"
   ]
  },
  {
   "cell_type": "code",
   "execution_count": 13,
   "id": "f067d141",
   "metadata": {},
   "outputs": [
    {
     "name": "stdout",
     "output_type": "stream",
     "text": [
      "--- Etapa 1: Carregando e Analisando o Dataset Fornecido ---\n",
      "Dataset 'dataset-IA.csv' carregado com sucesso.\n",
      "\n",
      "Informações do Dataset:\n",
      "<class 'pandas.core.frame.DataFrame'>\n",
      "RangeIndex: 750 entries, 0 to 749\n",
      "Data columns (total 10 columns):\n",
      " #   Column  Non-Null Count  Dtype \n",
      "---  ------  --------------  ----- \n",
      " 0   A1      750 non-null    int64 \n",
      " 1   B1      750 non-null    int64 \n",
      " 2   C1      750 non-null    int64 \n",
      " 3   A2      750 non-null    int64 \n",
      " 4   B2      750 non-null    int64 \n",
      " 5   C2      750 non-null    int64 \n",
      " 6   A3      750 non-null    int64 \n",
      " 7   B3      750 non-null    int64 \n",
      " 8   C3      750 non-null    int64 \n",
      " 9   Classe  750 non-null    object\n",
      "dtypes: int64(9), object(1)\n",
      "memory usage: 58.7+ KB\n"
     ]
    }
   ],
   "source": [
    "print(\"--- Etapa 1: Carregando e Analisando o Dataset Fornecido ---\")\n",
    "try:\n",
    "\timport pandas as pd  # Ensure pandas is imported\n",
    "\tdf = pd.read_csv('dataset-IA.csv', sep=';')\n",
    "\tprint(\"Dataset 'dataset-IA.csv' carregado com sucesso.\")\n",
    "except FileNotFoundError:\n",
    "\tprint(\"Erro: O arquivo 'dataset-IA.csv' não foi encontrado.\")\n",
    "\texit()\n",
    "\n",
    "df.columns = ['A1', 'B1', 'C1', 'A2', 'B2', 'C2', 'A3', 'B3', 'C3', 'Classe']\n",
    "print(\"\\nInformações do Dataset:\")\n",
    "df.info()"
   ]
  },
  {
   "cell_type": "markdown",
   "id": "7ccc321b",
   "metadata": {},
   "source": [
    "## 3. Análise Exploratória - Balanceamento de Classes\n",
    "\n",
    "Verificamos a distribuição das classes no dataset para identificar possíveis desbalanceamentos:"
   ]
  },
  {
   "cell_type": "code",
   "execution_count": 14,
   "id": "fa0ed045",
   "metadata": {},
   "outputs": [
    {
     "name": "stdout",
     "output_type": "stream",
     "text": [
      "\n",
      "--- Etapa 2: Verificando o Balanceamento das Classes ---\n",
      "Classe\n",
      "Fim de Jogo             250\n",
      "Possibilidade de Fim    250\n",
      "Tem Jogo                250\n",
      "Name: count, dtype: int64\n"
     ]
    },
    {
     "data": {
      "image/png": "[encoded data removed]",
      "text/plain": [
       "<Figure size 800x600 with 1 Axes>"
      ]
     },
     "metadata": {},
     "output_type": "display_data"
    }
   ],
   "source": [
    "print(\"\\n--- Etapa 2: Verificando o Balanceamento das Classes ---\")\n",
    "class_counts = df['Classe'].value_counts()\n",
    "print(class_counts)\n",
    "\n",
    "# Make sure necessary libraries are imported\n",
    "import matplotlib.pyplot as plt\n",
    "import seaborn as sns\n",
    "\n",
    "plt.figure(figsize=(8, 6))\n",
    "sns.countplot(x='Classe', data=df, order=class_counts.index)\n",
    "plt.title('Distribuição de Amostras por Classe no Dataset Fornecido')\n",
    "plt.ylabel('Número de Instâncias')\n",
    "plt.xlabel('Classe')\n",
    "plt.savefig('distribuicao_classes_carregado.png')\n",
    "plt.show()"
   ]
  },
  {
   "cell_type": "markdown",
   "id": "70457de6",
   "metadata": {},
   "source": [
    "## 4. Pré-processamento e Divisão dos Dados\n",
    "\n",
    "Realizamos a codificação das features categóricas e dividimos os dados em conjuntos de treino, validação e teste:"
   ]
  },
  {
   "cell_type": "code",
   "execution_count": 15,
   "id": "5f9a7df9",
   "metadata": {},
   "outputs": [
    {
     "name": "stdout",
     "output_type": "stream",
     "text": [
      "\n",
      "--- Etapa 3: Engenharia de Características e Divisão dos Dados ---\n",
      "\n",
      "Datasets de treino, validação e teste foram salvos com sucesso!\n"
     ]
    }
   ],
   "source": [
    "print(\"\\n--- Etapa 3: Engenharia de Características e Divisão dos Dados ---\")\n",
    "X = df.drop('Classe', axis=1)\n",
    "y = df['Classe']\n",
    "\n",
    "from sklearn.preprocessing import OneHotEncoder, LabelEncoder\n",
    "from sklearn.model_selection import train_test_split\n",
    "import joblib\n",
    "\n",
    "onehot_encoder = OneHotEncoder(sparse_output=False, handle_unknown='ignore')\n",
    "X_onehot = onehot_encoder.fit_transform(X)\n",
    "\n",
    "label_encoder = LabelEncoder()\n",
    "y_encoded = label_encoder.fit_transform(y)\n",
    "\n",
    "df_processed = pd.DataFrame(X_onehot, columns=onehot_encoder.get_feature_names_out(X.columns))\n",
    "df_processed['target'] = y_encoded\n",
    "\n",
    "train_df, temp_df = train_test_split(df_processed, test_size=0.2, random_state=42, stratify=df_processed['target'])\n",
    "val_df, test_df = train_test_split(temp_df, test_size=0.5, random_state=42, stratify=temp_df['target'])\n",
    "\n",
    "train_df.to_csv('train_dataset.csv', index=False)\n",
    "val_df.to_csv('validation_dataset.csv', index=False)\n",
    "test_df.to_csv('test_dataset.csv', index=False)\n",
    "joblib.dump(onehot_encoder, 'onehot_encoder.joblib')\n",
    "joblib.dump(label_encoder, 'label_encoder.joblib')\n",
    "\n",
    "print(\"\\nDatasets de treino, validação e teste foram salvos com sucesso!\")"
   ]
  }
 ],
 "metadata": {
  "kernelspec": {
   "display_name": "Python 3",
   "language": "python",
   "name": "python3"
  },
  "language_info": {
   "codemirror_mode": {
    "name": "ipython",
    "version": 3
   },
   "file_extension": ".py",
   "mimetype": "text/x-python",
   "name": "python",
   "nbconvert_exporter": "python",
   "pygments_lexer": "ipython3",
   "version": "3.12.0"
  }
 },
 "nbformat": 4,
 "nbformat_minor": 5
}
