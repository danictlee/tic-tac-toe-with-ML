{
 "cells": [
  {
   "cell_type": "markdown",
   "id": "160d8764",
   "metadata": {},
   "source": [
    "## 1. Importação de Bibliotecas\n",
    "\n",
    "Importamos todas as bibliotecas necessárias para o treinamento e avaliação dos modelos:"
   ]
  },
  {
   "cell_type": "code",
   "execution_count": 2,
   "id": "4289ee20",
   "metadata": {},
   "outputs": [],
   "source": [
    "import pandas as pd\n",
    "import matplotlib.pyplot as plt\n",
    "import joblib\n",
    "from sklearn.model_selection import GridSearchCV\n",
    "from sklearn.neighbors import KNeighborsClassifier\n",
    "from sklearn.tree import DecisionTreeClassifier\n",
    "from sklearn.neural_network import MLPClassifier\n",
    "from sklearn.svm import SVC\n",
    "from sklearn.ensemble import RandomForestClassifier\n",
    "from sklearn.metrics import classification_report, f1_score"
   ]
  },
  {
   "cell_type": "markdown",
   "id": "83c03c59",
   "metadata": {},
   "source": [
    "## 2. Carregamento dos Dados Processados\n",
    "\n",
    "Carregamos os datasets que foram processados no notebook anterior:"
   ]
  },
  {
   "cell_type": "code",
   "execution_count": 3,
   "id": "e330e2c7",
   "metadata": {},
   "outputs": [
    {
     "name": "stdout",
     "output_type": "stream",
     "text": [
      "--- Carregando os datasets preparados ---\n",
      "Dados de treino: (675, 27)\n",
      "Dados de teste: (75, 27)\n",
      "Classes: ['Fim de Jogo' 'Possibilidade de Fim' 'Tem Jogo']\n"
     ]
    }
   ],
   "source": [
    "print(\"--- Carregando os datasets preparados ---\")\n",
    "train_df = pd.read_csv('train_dataset.csv')\n",
    "val_df = pd.read_csv('validation_dataset.csv')\n",
    "test_df = pd.read_csv('test_dataset.csv')\n",
    "\n",
    "# Combinar treino e validação para o GridSearchCV\n",
    "full_train_df = pd.concat([train_df, val_df])\n",
    "X_train = full_train_df.drop('target', axis=1)\n",
    "y_train = full_train_df['target']\n",
    "X_test = test_df.drop('target', axis=1)\n",
    "y_test = test_df['target']\n",
    "\n",
    "# Carregar o label encoder para obter os nomes das classes\n",
    "label_encoder = joblib.load('label_encoder.joblib')\n",
    "target_names = label_encoder.classes_\n",
    "\n",
    "print(f\"Dados de treino: {X_train.shape}\")\n",
    "print(f\"Dados de teste: {X_test.shape}\")\n",
    "print(f\"Classes: {target_names}\")\n",
    "\n",
    "# Dicionários para armazenar os melhores modelos e resultados\n",
    "best_models = {}\n",
    "results = {}"
   ]
  },
  {
   "cell_type": "markdown",
   "id": "182b8dce",
   "metadata": {},
   "source": [
    "## 3. Otimização de Hiperparâmetros\n",
    "\n",
    "### 3.1 k-Nearest Neighbors (k-NN)"
   ]
  },
  {
   "cell_type": "code",
   "execution_count": 4,
   "id": "a25b033a",
   "metadata": {},
   "outputs": [
    {
     "name": "stdout",
     "output_type": "stream",
     "text": [
      "\n",
      "--- Otimizando k-NN ---\n",
      "Melhores parâmetros: {'n_neighbors': 7, 'weights': 'distance'}\n"
     ]
    }
   ],
   "source": [
    "print(\"\\n--- Otimizando k-NN ---\")\n",
    "param_grid_knn = {'n_neighbors': [3, 5, 7], 'weights': ['uniform', 'distance']}\n",
    "grid_knn = GridSearchCV(KNeighborsClassifier(), param_grid_knn, cv=5, scoring='f1_weighted', n_jobs=-1)\n",
    "grid_knn.fit(X_train, y_train)\n",
    "best_models['k-NN'] = grid_knn.best_estimator_\n",
    "print(f\"Melhores parâmetros: {grid_knn.best_params_}\")"
   ]
  },
  {
   "cell_type": "markdown",
   "id": "ad596be7",
   "metadata": {},
   "source": [
    "### 3.2 Árvore de Decisão"
   ]
  },
  {
   "cell_type": "code",
   "execution_count": 5,
   "id": "5351c8e8",
   "metadata": {},
   "outputs": [
    {
     "name": "stdout",
     "output_type": "stream",
     "text": [
      "\n",
      "--- Otimizando Árvore de Decisão ---\n",
      "Melhores parâmetros: {'criterion': 'gini', 'max_depth': 10, 'min_samples_leaf': 1}\n"
     ]
    }
   ],
   "source": [
    "print(\"\\n--- Otimizando Árvore de Decisão ---\")\n",
    "param_grid_dt = {'criterion': ['gini', 'entropy'], 'max_depth': [5, 10, None], 'min_samples_leaf': [1, 2, 4]}\n",
    "grid_dt = GridSearchCV(DecisionTreeClassifier(random_state=42), param_grid_dt, cv=5, scoring='f1_weighted', n_jobs=-1)\n",
    "grid_dt.fit(X_train, y_train)\n",
    "best_models['Decision Tree'] = grid_dt.best_estimator_\n",
    "print(f\"Melhores parâmetros: {grid_dt.best_params_}\")"
   ]
  },
  {
   "cell_type": "markdown",
   "id": "c366eeaa",
   "metadata": {},
   "source": [
    "### 3.3 Multi-layer Perceptron (MLP)"
   ]
  },
  {
   "cell_type": "code",
   "execution_count": 6,
   "id": "7f5fa24e",
   "metadata": {},
   "outputs": [
    {
     "name": "stdout",
     "output_type": "stream",
     "text": [
      "\n",
      "--- Otimizando MLP ---\n",
      "Melhores parâmetros: {'activation': 'tanh', 'hidden_layer_sizes': (50, 50), 'max_iter': 1000}\n"
     ]
    }
   ],
   "source": [
    "print(\"\\n--- Otimizando MLP ---\")\n",
    "param_grid_mlp = {'hidden_layer_sizes': [(50,), (100,), (50, 50)], 'activation': ['relu', 'tanh'], 'max_iter': [1000]}\n",
    "grid_mlp = GridSearchCV(MLPClassifier(random_state=42), param_grid_mlp, cv=5, scoring='f1_weighted', n_jobs=-1)\n",
    "grid_mlp.fit(X_train, y_train)\n",
    "best_models['MLP'] = grid_mlp.best_estimator_\n",
    "print(f\"Melhores parâmetros: {grid_mlp.best_params_}\")"
   ]
  },
  {
   "cell_type": "markdown",
   "id": "0e637248",
   "metadata": {},
   "source": [
    "### 3.4 Random Forest"
   ]
  },
  {
   "cell_type": "code",
   "execution_count": 7,
   "id": "0ebfeb4b",
   "metadata": {},
   "outputs": [
    {
     "name": "stdout",
     "output_type": "stream",
     "text": [
      "\n",
      "--- Otimizando Random Forest ---\n",
      "Melhores parâmetros: {'max_depth': 10, 'min_samples_leaf': 1, 'n_estimators': 100}\n"
     ]
    }
   ],
   "source": [
    "print(\"\\n--- Otimizando Random Forest ---\")\n",
    "param_grid_rf = {'n_estimators': [100, 200], 'max_depth': [10, 20, None], 'min_samples_leaf': [1, 2]}\n",
    "grid_rf = GridSearchCV(RandomForestClassifier(random_state=42), param_grid_rf, cv=5, scoring='f1_weighted', n_jobs=-1)\n",
    "grid_rf.fit(X_train, y_train)\n",
    "best_models['Random Forest'] = grid_rf.best_estimator_\n",
    "print(f\"Melhores parâmetros: {grid_rf.best_params_}\")"
   ]
  },
  {
   "cell_type": "markdown",
   "id": "08fc334b",
   "metadata": {},
   "source": [
    "### 3.5 Support Vector Machine (SVM)"
   ]
  },
  {
   "cell_type": "code",
   "execution_count": 8,
   "id": "6ff6c529",
   "metadata": {},
   "outputs": [
    {
     "name": "stdout",
     "output_type": "stream",
     "text": [
      "\n",
      "--- Otimizando SVM ---\n",
      "Melhores parâmetros: {'C': 10, 'gamma': 0.1, 'kernel': 'rbf'}\n"
     ]
    }
   ],
   "source": [
    "print(\"\\n--- Otimizando SVM ---\")\n",
    "param_grid_svm = {'C': [0.1, 1, 10], 'gamma': [1, 0.1, 0.01], 'kernel': ['rbf', 'poly']}\n",
    "grid_svm = GridSearchCV(SVC(random_state=42), param_grid_svm, cv=5, scoring='f1_weighted', n_jobs=-1)\n",
    "grid_svm.fit(X_train, y_train)\n",
    "best_models['SVM'] = grid_svm.best_estimator_\n",
    "print(f\"Melhores parâmetros: {grid_svm.best_params_}\")"
   ]
  },
  {
   "cell_type": "markdown",
   "id": "2c029fa6",
   "metadata": {},
   "source": [
    "## 4. Avaliação dos Modelos no Conjunto de Teste\n",
    "\n",
    "Avaliamos todos os modelos otimizados no conjunto de teste:"
   ]
  },
  {
   "cell_type": "code",
   "execution_count": 9,
   "id": "61d605ac",
   "metadata": {},
   "outputs": [
    {
     "name": "stdout",
     "output_type": "stream",
     "text": [
      "\n",
      "\n",
      "--- Avaliação Final dos Modelos Otimizados no Conjunto de Teste ---\n",
      "\n",
      "--- Relatório para: k-NN ---\n",
      "                      precision    recall  f1-score   support\n",
      "\n",
      "         Fim de Jogo       0.89      0.96      0.92        25\n",
      "Possibilidade de Fim       0.78      0.56      0.65        25\n",
      "            Tem Jogo       0.73      0.88      0.80        25\n",
      "\n",
      "            accuracy                           0.80        75\n",
      "           macro avg       0.80      0.80      0.79        75\n",
      "        weighted avg       0.80      0.80      0.79        75\n",
      "\n",
      "\n",
      "--- Relatório para: Decision Tree ---\n",
      "                      precision    recall  f1-score   support\n",
      "\n",
      "         Fim de Jogo       0.70      0.76      0.73        25\n",
      "Possibilidade de Fim       0.52      0.48      0.50        25\n",
      "            Tem Jogo       0.68      0.68      0.68        25\n",
      "\n",
      "            accuracy                           0.64        75\n",
      "           macro avg       0.64      0.64      0.64        75\n",
      "        weighted avg       0.64      0.64      0.64        75\n",
      "\n",
      "\n",
      "--- Relatório para: MLP ---\n",
      "                      precision    recall  f1-score   support\n",
      "\n",
      "         Fim de Jogo       0.92      0.96      0.94        25\n",
      "Possibilidade de Fim       0.83      0.76      0.79        25\n",
      "            Tem Jogo       0.85      0.88      0.86        25\n",
      "\n",
      "            accuracy                           0.87        75\n",
      "           macro avg       0.87      0.87      0.87        75\n",
      "        weighted avg       0.87      0.87      0.87        75\n",
      "\n",
      "\n",
      "--- Relatório para: Random Forest ---\n",
      "                      precision    recall  f1-score   support\n",
      "\n",
      "         Fim de Jogo       0.92      0.92      0.92        25\n",
      "Possibilidade de Fim       0.68      0.60      0.64        25\n",
      "            Tem Jogo       0.71      0.80      0.75        25\n",
      "\n",
      "            accuracy                           0.77        75\n",
      "           macro avg       0.77      0.77      0.77        75\n",
      "        weighted avg       0.77      0.77      0.77        75\n",
      "\n",
      "\n",
      "--- Relatório para: SVM ---\n",
      "                      precision    recall  f1-score   support\n",
      "\n",
      "         Fim de Jogo       0.92      0.96      0.94        25\n",
      "Possibilidade de Fim       0.86      0.72      0.78        25\n",
      "            Tem Jogo       0.82      0.92      0.87        25\n",
      "\n",
      "            accuracy                           0.87        75\n",
      "           macro avg       0.87      0.87      0.86        75\n",
      "        weighted avg       0.87      0.87      0.86        75\n",
      "\n"
     ]
    }
   ],
   "source": [
    "print(\"\\n\\n--- Avaliação Final dos Modelos Otimizados no Conjunto de Teste ---\")\n",
    "\n",
    "for name, model in best_models.items():\n",
    "    print(f\"\\n--- Relatório para: {name} ---\")\n",
    "    y_pred = model.predict(X_test)\n",
    "    \n",
    "    # Imprime o relatório de classificação completo\n",
    "    print(classification_report(y_test, y_pred, target_names=target_names))\n",
    "    \n",
    "    # Salva o F1-Score ponderado para a comparação final\n",
    "    results[name] = f1_score(y_test, y_pred, average='weighted')"
   ]
  },
  {
   "cell_type": "markdown",
   "id": "777487d7",
   "metadata": {},
   "source": [
    "## 5. Comparação e Visualização dos Resultados\n",
    "\n",
    "Criamos uma tabela comparativa e visualizamos o desempenho dos modelos:"
   ]
  },
  {
   "cell_type": "code",
   "execution_count": 10,
   "id": "b7c81ba8",
   "metadata": {},
   "outputs": [
    {
     "name": "stdout",
     "output_type": "stream",
     "text": [
      "\n",
      "\n",
      "--- Tabela Comparativa de Desempenho ---\n",
      "          Modelo  F1-Score (Ponderado)\n",
      "0            MLP              0.865196\n",
      "1            SVM              0.863903\n",
      "2           k-NN              0.791413\n",
      "3  Random Forest              0.771005\n",
      "4  Decision Tree              0.636923\n"
     ]
    },
    {
     "data": {
      "image/png": "[encoded data removed]",
      "text/plain": [
       "<Figure size 1000x600 with 1 Axes>"
      ]
     },
     "metadata": {},
     "output_type": "display_data"
    }
   ],
   "source": [
    "# Criar tabela comparativa dos resultados\n",
    "results_df = pd.DataFrame(list(results.items()), columns=['Modelo', 'F1-Score (Ponderado)'])\n",
    "results_df = results_df.sort_values(by='F1-Score (Ponderado)', ascending=False).reset_index(drop=True)\n",
    "\n",
    "print(\"\\n\\n--- Tabela Comparativa de Desempenho ---\")\n",
    "print(results_df)\n",
    "\n",
    "# Criar gráfico de barras para visualização\n",
    "plt.figure(figsize=(10, 6))\n",
    "plt.bar(results_df['Modelo'], results_df['F1-Score (Ponderado)'], \n",
    "        color=['#1f77b4', '#ff7f0e', '#2ca02c', '#d62728', '#9467bd'])\n",
    "plt.xlabel('Modelo de Classificação')\n",
    "plt.ylabel('F1-Score (Ponderado)')\n",
    "plt.title('Comparação de Desempenho dos Modelos Otimizados')\n",
    "plt.ylim(0, 1.05)\n",
    "plt.xticks(rotation=15)\n",
    "plt.grid(axis='y', linestyle='--', alpha=0.7)\n",
    "plt.tight_layout()\n",
    "plt.savefig('comparacao_modelos.png')\n",
    "plt.show()"
   ]
  },
  {
   "cell_type": "markdown",
   "id": "67b7bd7d",
   "metadata": {},
   "source": [
    "## 6. Seleção e Salvamento do Melhor Modelo\n",
    "\n",
    "Selecionamos o modelo com melhor desempenho e o salvamos para uso futuro:"
   ]
  },
  {
   "cell_type": "code",
   "execution_count": 11,
   "id": "4cac84b5",
   "metadata": {},
   "outputs": [
    {
     "name": "stdout",
     "output_type": "stream",
     "text": [
      "\n",
      "🏆 Com base no F1-Score, o melhor modelo para este problema é o: MLP\n",
      "F1-Score do melhor modelo: 0.8652\n",
      "Salvando o modelo em 'best_classifier.joblib'...\n",
      "Modelo salvo com sucesso! Pronto para ser usado no jogo.\n"
     ]
    }
   ],
   "source": [
    "# Selecionar o melhor modelo baseado no F1-Score\n",
    "best_model_name = results_df.loc[0, 'Modelo']\n",
    "best_model_object = best_models[best_model_name]\n",
    "\n",
    "print(f\"\\n🏆 Com base no F1-Score, o melhor modelo para este problema é o: {best_model_name}\")\n",
    "print(f\"F1-Score do melhor modelo: {results_df.loc[0, 'F1-Score (Ponderado)']:.4f}\")\n",
    "\n",
    "# Salvar o melhor modelo\n",
    "print(\"Salvando o modelo em 'best_classifier.joblib'...\")\n",
    "joblib.dump(best_model_object, 'best_classifier.joblib')\n",
    "print(\"Modelo salvo com sucesso! Pronto para ser usado no jogo.\")"
   ]
  }
 ],
 "metadata": {
  "kernelspec": {
   "display_name": "Python 3",
   "language": "python",
   "name": "python3"
  },
  "language_info": {
   "codemirror_mode": {
    "name": "ipython",
    "version": 3
   },
   "file_extension": ".py",
   "mimetype": "text/x-python",
   "name": "python",
   "nbconvert_exporter": "python",
   "pygments_lexer": "ipython3",
   "version": "3.12.0"
  }
 },
 "nbformat": 4,
 "nbformat_minor": 5
}
