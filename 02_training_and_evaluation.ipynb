{
 "cells": [
  {
   "cell_type": "markdown",
   "id": "160d8764",
   "metadata": {},
   "source": [
    "## 1. Importação de Bibliotecas\n",
    "\n",
    "Importamos todas as bibliotecas necessárias para o treinamento e avaliação dos modelos:"
   ]
  },
  {
   "cell_type": "code",
   "execution_count": 11,
   "id": "4289ee20",
   "metadata": {},
   "outputs": [],
   "source": [
    "# Importações necessárias\n",
    "import pandas as pd\n",
    "import numpy as np\n",
    "from sklearn.neighbors import KNeighborsClassifier\n",
    "from sklearn.tree import DecisionTreeClassifier\n",
    "from sklearn.neural_network import MLPClassifier\n",
    "from sklearn.ensemble import RandomForestClassifier\n",
    "from sklearn.model_selection import GridSearchCV\n",
    "from sklearn.metrics import classification_report, f1_score\n",
    "import joblib"
   ]
  },
  {
   "cell_type": "markdown",
   "id": "83c03c59",
   "metadata": {},
   "source": [
    "## 2. Carregamento dos Dados Processados\n",
    "\n",
    "Carregamos os datasets que foram processados no notebook anterior:"
   ]
  },
  {
   "cell_type": "code",
   "execution_count": 12,
   "id": "e330e2c7",
   "metadata": {},
   "outputs": [
    {
     "name": "stdout",
     "output_type": "stream",
     "text": [
      "--- Carregando os datasets preparados ---\n",
      "Dataset de treino: 600 amostras\n",
      "Dataset de teste: 150 amostras\n",
      "Classes: ['Fim de Jogo' 'Possibilidade de Fim' 'Tem Jogo']\n"
     ]
    }
   ],
   "source": [
    "print(\"--- Carregando os datasets preparados ---\")\n",
    "train_df = pd.read_csv('train_dataset.csv')\n",
    "val_df = pd.read_csv('validation_dataset.csv')\n",
    "test_df = pd.read_csv('test_dataset.csv')\n",
    "\n",
    "# Combinar treino e validação para o GridSearchCV\n",
    "full_train_df = pd.concat([train_df, val_df])\n",
    "\n",
    "# Separar features e target\n",
    "X_train = full_train_df.drop('target', axis=1)\n",
    "y_train = full_train_df['target']\n",
    "X_test = test_df.drop('target', axis=1)\n",
    "y_test = test_df['target']\n",
    "\n",
    "# Carregar encoders\n",
    "label_encoder = joblib.load('label_encoder.joblib')\n",
    "\n",
    "# Obter nomes das classes para relatórios\n",
    "target_names = label_encoder.classes_\n",
    "\n",
    "print(f\"Dataset de treino: {X_train.shape[0]} amostras\")\n",
    "print(f\"Dataset de teste: {X_test.shape[0]} amostras\")\n",
    "print(f\"Classes: {target_names}\")"
   ]
  },
  {
   "cell_type": "markdown",
   "id": "182b8dce",
   "metadata": {},
   "source": [
    "## 3. Otimização de Hiperparâmetros\n",
    "\n",
    "### 3.1 k-Nearest Neighbors (k-NN)"
   ]
  },
  {
   "cell_type": "code",
   "execution_count": 13,
   "id": "a25b033a",
   "metadata": {},
   "outputs": [
    {
     "name": "stdout",
     "output_type": "stream",
     "text": [
      "\n",
      "--- Otimizando k-NN ---\n",
      "Melhores parâmetros: {'n_neighbors': 5, 'weights': 'distance'}\n",
      "Melhores parâmetros: {'n_neighbors': 5, 'weights': 'distance'}\n"
     ]
    }
   ],
   "source": [
    "print(\"\\n--- Otimizando k-NN ---\")\n",
    "param_grid_knn = {'n_neighbors': [3, 5, 7, 9], 'weights': ['uniform', 'distance']}\n",
    "grid_knn = GridSearchCV(KNeighborsClassifier(), param_grid_knn, cv=5, scoring='f1_weighted', n_jobs=-1)\n",
    "grid_knn.fit(X_train, y_train)\n",
    "best_models = {'k-NN': grid_knn.best_estimator_}\n",
    "print(f\"Melhores parâmetros: {grid_knn.best_params_}\")"
   ]
  },
  {
   "cell_type": "markdown",
   "id": "ad596be7",
   "metadata": {},
   "source": [
    "### 3.2 Árvore de Decisão"
   ]
  },
  {
   "cell_type": "code",
   "execution_count": 14,
   "id": "5351c8e8",
   "metadata": {},
   "outputs": [
    {
     "name": "stdout",
     "output_type": "stream",
     "text": [
      "\n",
      "--- Otimizando Decision Tree ---\n",
      "Melhores parâmetros: {'max_depth': 10, 'min_samples_split': 2}\n"
     ]
    }
   ],
   "source": [
    "print(\"\\n--- Otimizando Decision Tree ---\")\n",
    "param_grid_dt = {'max_depth': [5, 10, 15, None], 'min_samples_split': [2, 5, 10]}\n",
    "grid_dt = GridSearchCV(DecisionTreeClassifier(random_state=42), param_grid_dt, cv=5, scoring='f1_weighted', n_jobs=-1)\n",
    "grid_dt.fit(X_train, y_train)\n",
    "best_models['Decision Tree'] = grid_dt.best_estimator_\n",
    "print(f\"Melhores parâmetros: {grid_dt.best_params_}\")"
   ]
  },
  {
   "cell_type": "markdown",
   "id": "c366eeaa",
   "metadata": {},
   "source": [
    "### 3.3 Multi-layer Perceptron (MLP)"
   ]
  },
  {
   "cell_type": "code",
   "execution_count": 15,
   "id": "7f5fa24e",
   "metadata": {},
   "outputs": [
    {
     "name": "stdout",
     "output_type": "stream",
     "text": [
      "\n",
      "--- Otimizando MLP ---\n",
      "Melhores parâmetros: {'alpha': 0.001, 'hidden_layer_sizes': (50, 50)}\n",
      "Melhores parâmetros: {'alpha': 0.001, 'hidden_layer_sizes': (50, 50)}\n"
     ]
    }
   ],
   "source": [
    "print(\"\\n--- Otimizando MLP ---\")\n",
    "param_grid_mlp = {'hidden_layer_sizes': [(50,), (100,), (50, 50)], 'alpha': [0.001, 0.01]}\n",
    "grid_mlp = GridSearchCV(MLPClassifier(random_state=42, max_iter=1000), param_grid_mlp, cv=5, scoring='f1_weighted', n_jobs=-1)\n",
    "grid_mlp.fit(X_train, y_train)\n",
    "best_models['MLP'] = grid_mlp.best_estimator_\n",
    "print(f\"Melhores parâmetros: {grid_mlp.best_params_}\")"
   ]
  },
  {
   "cell_type": "markdown",
   "id": "0e637248",
   "metadata": {},
   "source": [
    "### 3.4 Random Forest"
   ]
  },
  {
   "cell_type": "code",
   "execution_count": 16,
   "id": "0ebfeb4b",
   "metadata": {},
   "outputs": [
    {
     "name": "stdout",
     "output_type": "stream",
     "text": [
      "\n",
      "--- Otimizando Random Forest ---\n",
      "Melhores parâmetros: {'max_depth': None, 'n_estimators': 100}\n",
      "Melhores parâmetros: {'max_depth': None, 'n_estimators': 100}\n"
     ]
    }
   ],
   "source": [
    "print(\"\\n--- Otimizando Random Forest ---\")\n",
    "param_grid_rf = {'n_estimators': [50, 100, 200], 'max_depth': [5, 10, None]}\n",
    "grid_rf = GridSearchCV(RandomForestClassifier(random_state=42), param_grid_rf, cv=5, scoring='f1_weighted', n_jobs=-1)\n",
    "grid_rf.fit(X_train, y_train)\n",
    "best_models['Random Forest'] = grid_rf.best_estimator_\n",
    "print(f\"Melhores parâmetros: {grid_rf.best_params_}\")"
   ]
  },
  {
   "cell_type": "markdown",
   "id": "2c029fa6",
   "metadata": {},
   "source": [
    "## 4. Avaliação dos Modelos no Conjunto de Teste\n",
    "\n",
    "Avaliamos todos os modelos otimizados no conjunto de teste:"
   ]
  },
  {
   "cell_type": "code",
   "execution_count": 17,
   "id": "61d605ac",
   "metadata": {},
   "outputs": [
    {
     "name": "stdout",
     "output_type": "stream",
     "text": [
      "--- Avaliação dos Modelos no Conjunto de Teste ---\n",
      "\n",
      "--- Relatório para: k-NN ---\n",
      "                      precision    recall  f1-score   support\n",
      "\n",
      "         Fim de Jogo       0.83      1.00      0.91        50\n",
      "Possibilidade de Fim       0.76      0.38      0.51        50\n",
      "            Tem Jogo       0.65      0.84      0.73        50\n",
      "\n",
      "            accuracy                           0.74       150\n",
      "           macro avg       0.75      0.74      0.72       150\n",
      "        weighted avg       0.75      0.74      0.72       150\n",
      "\n",
      "\n",
      "--- Relatório para: Decision Tree ---\n",
      "                      precision    recall  f1-score   support\n",
      "\n",
      "         Fim de Jogo       0.69      0.68      0.69        50\n",
      "Possibilidade de Fim       0.64      0.60      0.62        50\n",
      "            Tem Jogo       0.76      0.82      0.79        50\n",
      "\n",
      "            accuracy                           0.70       150\n",
      "           macro avg       0.70      0.70      0.70       150\n",
      "        weighted avg       0.70      0.70      0.70       150\n",
      "\n",
      "\n",
      "--- Relatório para: MLP ---\n",
      "                      precision    recall  f1-score   support\n",
      "\n",
      "         Fim de Jogo       0.92      0.90      0.91        50\n",
      "Possibilidade de Fim       0.85      0.80      0.82        50\n",
      "            Tem Jogo       0.89      0.96      0.92        50\n",
      "\n",
      "            accuracy                           0.89       150\n",
      "           macro avg       0.89      0.89      0.89       150\n",
      "        weighted avg       0.89      0.89      0.89       150\n",
      "\n",
      "\n",
      "--- Relatório para: Random Forest ---\n",
      "                      precision    recall  f1-score   support\n",
      "\n",
      "         Fim de Jogo       0.88      0.98      0.92        50\n",
      "Possibilidade de Fim       0.81      0.60      0.69        50\n",
      "            Tem Jogo       0.75      0.86      0.80        50\n",
      "\n",
      "            accuracy                           0.81       150\n",
      "           macro avg       0.81      0.81      0.81       150\n",
      "        weighted avg       0.81      0.81      0.81       150\n",
      "\n"
     ]
    }
   ],
   "source": [
    "print(\"--- Avaliação dos Modelos no Conjunto de Teste ---\")\n",
    "results = {}\n",
    "\n",
    "for name, model in best_models.items():\n",
    "    y_pred = model.predict(X_test)\n",
    "    f1_weighted = f1_score(y_test, y_pred, average='weighted')\n",
    "    results[name] = f1_weighted\n",
    "    \n",
    "    print(f\"\\n--- Relatório para: {name} ---\")\n",
    "    print(classification_report(y_test, y_pred, target_names=target_names))"
   ]
  },
  {
   "cell_type": "markdown",
   "id": "777487d7",
   "metadata": {},
   "source": [
    "## 5. Comparação e Visualização dos Resultados\n",
    "\n",
    "Criamos uma tabela comparativa e visualizamos o desempenho dos modelos:"
   ]
  },
  {
   "cell_type": "code",
   "execution_count": 18,
   "id": "b7c81ba8",
   "metadata": {},
   "outputs": [
    {
     "name": "stdout",
     "output_type": "stream",
     "text": [
      "=== COMPARAÇÃO FINAL DOS MODELOS ===\n",
      "       Algoritmo  F1-Score\n",
      "2            MLP  0.885637\n",
      "3  Random Forest  0.805974\n",
      "0           k-NN  0.715397\n",
      "1  Decision Tree  0.697962\n"
     ]
    },
    {
     "data": {
      "image/png": "[encoded data removed]",
      "text/plain": [
       "<Figure size 1000x600 with 1 Axes>"
      ]
     },
     "metadata": {},
     "output_type": "display_data"
    }
   ],
   "source": [
    "import matplotlib.pyplot as plt\n",
    "\n",
    "# Criar DataFrame com os resultados\n",
    "results_df = pd.DataFrame(list(results.items()), columns=['Algoritmo', 'F1-Score'])\n",
    "results_df = results_df.sort_values('F1-Score', ascending=False)\n",
    "\n",
    "print(\"=== COMPARAÇÃO FINAL DOS MODELOS ===\")\n",
    "print(results_df)\n",
    "\n",
    "# Visualizar os resultados\n",
    "plt.figure(figsize=(10, 6))\n",
    "plt.bar(results_df['Algoritmo'], results_df['F1-Score'], color=['skyblue', 'lightcoral', 'lightgreen', 'gold'])\n",
    "plt.title('Comparação de Modelos - F1-Score Weighted')\n",
    "plt.xlabel('Algoritmo')\n",
    "plt.ylabel('F1-Score')\n",
    "plt.xticks(rotation=45)\n",
    "plt.grid(axis='y', alpha=0.3)\n",
    "\n",
    "# Adicionar valores no topo das barras\n",
    "for i, v in enumerate(results_df['F1-Score']):\n",
    "    plt.text(i, v + 0.01, f'{v:.3f}', ha='center')\n",
    "\n",
    "plt.tight_layout()\n",
    "plt.savefig('comparacao_modelos.png')\n",
    "plt.show()"
   ]
  },
  {
   "cell_type": "markdown",
   "id": "67b7bd7d",
   "metadata": {},
   "source": [
    "## 6. Seleção e Salvamento do Melhor Modelo\n",
    "\n",
    "Selecionamos o modelo com melhor desempenho e o salvamos para uso futuro:"
   ]
  },
  {
   "cell_type": "code",
   "execution_count": 19,
   "id": "4cac84b5",
   "metadata": {},
   "outputs": [
    {
     "name": "stdout",
     "output_type": "stream",
     "text": [
      "--- Salvando o Melhor Modelo ---\n",
      "Melhor modelo: MLP\n",
      "F1-Score: 0.8856\n",
      "Modelo 'MLP' salvo como 'best_classifier.joblib'\n",
      "\n",
      "=== RESUMO FINAL ===\n",
      "✅ Melhor Algoritmo: MLP\n",
      "📊 F1-Score Alcançado: 0.8856\n",
      "🎯 O modelo está pronto para uso na aplicação!\n",
      "\n",
      "Parâmetros do modelo 'MLP':\n",
      "  activation: relu\n",
      "  alpha: 0.001\n",
      "  batch_size: auto\n",
      "  beta_1: 0.9\n",
      "  beta_2: 0.999\n",
      "  early_stopping: False\n",
      "  epsilon: 1e-08\n",
      "  hidden_layer_sizes: (50, 50)\n",
      "  learning_rate: constant\n",
      "  learning_rate_init: 0.001\n",
      "  max_fun: 15000\n",
      "  max_iter: 1000\n",
      "  momentum: 0.9\n",
      "  n_iter_no_change: 10\n",
      "  nesterovs_momentum: True\n",
      "  power_t: 0.5\n",
      "  random_state: 42\n",
      "  shuffle: True\n",
      "  solver: adam\n",
      "  tol: 0.0001\n",
      "  validation_fraction: 0.1\n",
      "  verbose: False\n",
      "  warm_start: False\n",
      "\n",
      "Arquivos gerados:\n",
      "- best_classifier.joblib (modelo treinado)\n",
      "- comparacao_modelos.png (gráfico comparativo)\n"
     ]
    }
   ],
   "source": [
    "print(\"--- Salvando o Melhor Modelo ---\")\n",
    "\n",
    "# Selecionar o melhor modelo baseado no F1-Score\n",
    "best_model_name = results_df.iloc[0]['Algoritmo']\n",
    "best_model_object = best_models[best_model_name]\n",
    "\n",
    "print(f\"Melhor modelo: {best_model_name}\")\n",
    "print(f\"F1-Score: {results_df.iloc[0]['F1-Score']:.4f}\")\n",
    "\n",
    "# Salvar o melhor modelo\n",
    "joblib.dump(best_model_object, 'best_classifier.joblib')\n",
    "print(f\"Modelo '{best_model_name}' salvo como 'best_classifier.joblib'\")\n",
    "\n",
    "print(\"\\n=== RESUMO FINAL ===\")\n",
    "print(f\"✅ Melhor Algoritmo: {best_model_name}\")\n",
    "print(f\"📊 F1-Score Alcançado: {results_df.iloc[0]['F1-Score']:.4f}\")\n",
    "print(\"🎯 O modelo está pronto para uso na aplicação!\")\n",
    "\n",
    "# Exibir informações detalhadas do melhor modelo\n",
    "if hasattr(best_model_object, 'get_params'):\n",
    "    print(f\"\\nParâmetros do modelo '{best_model_name}':\")\n",
    "    for param, value in best_model_object.get_params().items():\n",
    "        print(f\"  {param}: {value}\")\n",
    "\n",
    "print(\"\\nArquivos gerados:\")\n",
    "print(\"- best_classifier.joblib (modelo treinado)\")\n",
    "print(\"- comparacao_modelos.png (gráfico comparativo)\")"
   ]
  }
 ],
 "metadata": {
  "kernelspec": {
   "display_name": "Python 3",
   "language": "python",
   "name": "python3"
  },
  "language_info": {
   "codemirror_mode": {
    "name": "ipython",
    "version": 3
   },
   "file_extension": ".py",
   "mimetype": "text/x-python",
   "name": "python",
   "nbconvert_exporter": "python",
   "pygments_lexer": "ipython3",
   "version": "3.12.0"
  }
 },
 "nbformat": 4,
 "nbformat_minor": 5
}
